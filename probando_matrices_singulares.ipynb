{
 "cells": [
  {
   "cell_type": "code",
   "execution_count": 1,
   "metadata": {},
   "outputs": [],
   "source": [
    "import ej1\n",
    "import test_ej1\n",
    "import ej2\n",
    "import test_ej2\n",
    "import ej3\n",
    "import test_ej3\n",
    "import numpy as np"
   ]
  },
  {
   "cell_type": "code",
   "execution_count": 2,
   "metadata": {},
   "outputs": [
    {
     "name": "stdout",
     "output_type": "stream",
     "text": [
      "El sistema tiene infinitas soluciones\n"
     ]
    },
    {
     "data": {
      "text/plain": [
       "array([0., 0., 0.])"
      ]
     },
     "execution_count": 2,
     "metadata": {},
     "output_type": "execute_result"
    }
   ],
   "source": [
    "# EG con pivoteo\n",
    "# Caso matriz singular 1\n",
    "mat_sing = np.array([[1, 2, 1], [2, 4, 2], [0, 0, 1]])\n",
    "x_ini = np.array([1, 1, 1])\n",
    "d = np.dot(mat_sing, x_ini)\n",
    "\n",
    "test_ej2.paso_a_lista_y_ejecuto(mat_sing, d)"
   ]
  },
  {
   "cell_type": "code",
   "execution_count": 3,
   "metadata": {},
   "outputs": [
    {
     "name": "stdout",
     "output_type": "stream",
     "text": [
      "El sistema tiene infinitas soluciones\n"
     ]
    },
    {
     "data": {
      "text/plain": [
       "array([0., 0., 0.])"
      ]
     },
     "execution_count": 3,
     "metadata": {},
     "output_type": "execute_result"
    }
   ],
   "source": [
    "# EG con pivoteo\n",
    "# Caso matriz singular 2 (ultima fila = 0)\n",
    "# En este caso d = [4, 6, 2]\n",
    "\n",
    "mat_sing = np.array([[1, 2, 1], [1, 3, 2], [0, 1, 1]])\n",
    "x_ini = np.array([1, 1, 1])\n",
    "d = np.dot(mat_sing, x_ini)\n",
    "\n",
    "test_ej2.paso_a_lista_y_ejecuto(mat_sing, d)"
   ]
  },
  {
   "cell_type": "code",
   "execution_count": 4,
   "metadata": {},
   "outputs": [
    {
     "name": "stdout",
     "output_type": "stream",
     "text": [
      "El sistema no tiene solucion\n"
     ]
    },
    {
     "data": {
      "text/plain": [
       "array([0., 0., 0.])"
      ]
     },
     "execution_count": 4,
     "metadata": {},
     "output_type": "execute_result"
    }
   ],
   "source": [
    "# EG con pivoteo\n",
    "# Caso matriz singular 2, pero con vec. indep. que no haya sol.\n",
    "# En este caso d = [4, 6, 1]\n",
    "\n",
    "mat_sing = np.array([[1, 2, 1], [1, 3, 2], [0, 1, 1]])\n",
    "d = np.array([4, 6, 1])\n",
    "\n",
    "test_ej2.paso_a_lista_y_ejecuto(mat_sing, d)"
   ]
  },
  {
   "cell_type": "code",
   "execution_count": 5,
   "metadata": {},
   "outputs": [
    {
     "name": "stdout",
     "output_type": "stream",
     "text": [
      "No se puede realizar la EG sin pivoteo (division por 0)\n"
     ]
    },
    {
     "data": {
      "text/plain": [
       "array([0., 0., 0.])"
      ]
     },
     "execution_count": 5,
     "metadata": {},
     "output_type": "execute_result"
    }
   ],
   "source": [
    "# EG sin pivoteo\n",
    "# Caso matriz singular 1\n",
    "mat_sing = np.array([[1, 2, 1], [2, 4, 2], [0, 0, 1]])\n",
    "x_ini = np.array([1, 1, 1])\n",
    "d = np.dot(mat_sing, x_ini)\n",
    "\n",
    "test_ej1.paso_a_lista_y_ejecuto(mat_sing, d)"
   ]
  },
  {
   "cell_type": "code",
   "execution_count": 6,
   "metadata": {},
   "outputs": [
    {
     "name": "stdout",
     "output_type": "stream",
     "text": [
      "El sistema no tiene solucion unica (matriz singular)\n"
     ]
    },
    {
     "data": {
      "text/plain": [
       "array([0., 0., 0.])"
      ]
     },
     "execution_count": 6,
     "metadata": {},
     "output_type": "execute_result"
    }
   ],
   "source": [
    "# EG sin pivoteo\n",
    "# Caso matriz singular 2\n",
    "mat_sing = np.array([[1, 2, 1], [1, 3, 2], [0, 1, 1]])\n",
    "x_ini = np.array([1, 1, 1])\n",
    "d = np.dot(mat_sing, x_ini)\n",
    "\n",
    "test_ej1.paso_a_lista_y_ejecuto(mat_sing, d)"
   ]
  },
  {
   "cell_type": "code",
   "execution_count": 7,
   "metadata": {},
   "outputs": [
    {
     "name": "stdout",
     "output_type": "stream",
     "text": [
      "Error: division por cero\n"
     ]
    },
    {
     "data": {
      "text/plain": [
       "array([0., 0., 0.])"
      ]
     },
     "execution_count": 7,
     "metadata": {},
     "output_type": "execute_result"
    }
   ],
   "source": [
    "# Tridiagonal\n",
    "# Caso matriz singular 3\n",
    "mat_sing = np.array([[1, 2, 0], [1, 2, 0], [0, 1, 2]])\n",
    "x_ini = np.array([1, 1, 1])\n",
    "d = np.dot(mat_sing, x_ini)\n",
    "\n",
    "\"\"\"\n",
    "120    120\n",
    "120 -> 000\n",
    "012    012\n",
    "\"\"\"\n",
    "\n",
    "\n",
    "c = np.array([2, 0, 0])\n",
    "b = np.array([1, 2, 2])\n",
    "a = np.array([0, 1, 1])\n",
    "\n",
    "test_ej3.paso_a_lista_y_ejecuto(a, b, c, d)"
   ]
  },
  {
   "cell_type": "code",
   "execution_count": 8,
   "metadata": {},
   "outputs": [
    {
     "name": "stdout",
     "output_type": "stream",
     "text": [
      "Matriz singular sin solucion unica\n"
     ]
    },
    {
     "data": {
      "text/plain": [
       "array([0., 0., 0.])"
      ]
     },
     "execution_count": 8,
     "metadata": {},
     "output_type": "execute_result"
    }
   ],
   "source": [
    "# Tridiagonal\n",
    "# Caso matriz singular 3\n",
    "mat_sing = np.array([[1, 2, 0], [2, 5, 1], [0, 1, 1]])\n",
    "\n",
    "x_ini = np.array([1, 1, 1])\n",
    "d = np.dot(mat_sing, x_ini)\n",
    "\n",
    "\"\"\"\n",
    "120    120    120\n",
    "251 -> 011 -> 011\n",
    "011    011    000\n",
    "\"\"\"\n",
    "\n",
    "\n",
    "c = np.array([2, 1, 0])\n",
    "b = np.array([1, 5, 1])\n",
    "a = np.array([0, 2, 1])\n",
    "\n",
    "test_ej3.paso_a_lista_y_ejecuto(a, b, c, d)\n",
    "# No esta pensado usar la tridiagonal con precomputo con una matriz singular"
   ]
  },
  {
   "cell_type": "code",
   "execution_count": null,
   "metadata": {},
   "outputs": [],
   "source": []
  }
 ],
 "metadata": {
  "kernelspec": {
   "display_name": "Python 3 (ipykernel)",
   "language": "python",
   "name": "python3"
  },
  "language_info": {
   "codemirror_mode": {
    "name": "ipython",
    "version": 3
   },
   "file_extension": ".py",
   "mimetype": "text/x-python",
   "name": "python",
   "nbconvert_exporter": "python",
   "pygments_lexer": "ipython3",
   "version": "3.10.6"
  }
 },
 "nbformat": 4,
 "nbformat_minor": 1
}
