{
 "cells": [
  {
   "cell_type": "code",
   "execution_count": 1,
   "metadata": {
    "ExecuteTime": {
     "end_time": "2023-04-13T21:27:30.888146Z",
     "start_time": "2023-04-13T21:27:30.820074Z"
    }
   },
   "outputs": [],
   "source": [
    "import ej1\n",
    "import ej2\n",
    "import ej3\n",
    "import test_ej1\n",
    "import test_ej2\n",
    "import test_ej3\n",
    "import numpy as np\n",
    "import timeit"
   ]
  },
  {
   "cell_type": "code",
   "execution_count": 2,
   "metadata": {
    "ExecuteTime": {
     "end_time": "2023-04-13T21:27:34.379801Z",
     "start_time": "2023-04-13T21:27:34.377062Z"
    }
   },
   "outputs": [],
   "source": [
    "sizes = [3, 5, 10, 100]\n",
    "num_repeticiones = 100"
   ]
  },
  {
   "cell_type": "code",
   "execution_count": 3,
   "metadata": {
    "ExecuteTime": {
     "end_time": "2023-04-13T21:27:42.919491Z",
     "start_time": "2023-04-13T21:27:35.178793Z"
    }
   },
   "outputs": [],
   "source": [
    "# Pruebo EG con y sin pivoteo\n",
    "# con matrices de rango completo (con sol. unica)\n",
    "# aleatorias con numeros del 0 al 1 (nunca pivotea)\n",
    "\n",
    "for size in sizes:\n",
    "    for i in range(num_repeticiones):\n",
    "        A = test_ej1.generar_mat_rango_completo(size)\n",
    "        x_ini = test_ej1.np.random.rand(size)\n",
    "        d = test_ej1.np.dot(A, x_ini)\n",
    "        x_vec = test_ej1.paso_a_lista_y_ejecuto(A, d)\n",
    "        x_vec2 = test_ej2.paso_a_lista_y_ejecuto(A, d)\n",
    "        assert np.allclose(x_vec, x_ini)\n",
    "        assert np.allclose(x_vec2, x_ini)\n"
   ]
  },
  {
   "cell_type": "code",
   "execution_count": 4,
   "metadata": {
    "ExecuteTime": {
     "end_time": "2023-04-13T21:27:49.593626Z",
     "start_time": "2023-04-13T21:27:44.690137Z"
    }
   },
   "outputs": [],
   "source": [
    "# Pruebo EG con pivoteo\n",
    "# aca se necesita pivotear para hacer la EG.\n",
    "\n",
    "for size in sizes:\n",
    "    for i in range(num_repeticiones):\n",
    "        A = test_ej1.generar_mat_rango_completo(size)\n",
    "        np.fill_diagonal(A, 0)\n",
    "        x_ini = test_ej1.np.random.rand(size)\n",
    "        d = test_ej1.np.dot(A, x_ini)\n",
    "        x_vec2 = test_ej2.paso_a_lista_y_ejecuto(A, d)\n",
    "        assert np.allclose(x_vec2, x_ini)"
   ]
  },
  {
   "cell_type": "code",
   "execution_count": 5,
   "metadata": {},
   "outputs": [],
   "source": [
    "# Pruebo tridiagonal\n",
    "\n",
    "for size in sizes:\n",
    "    for i in range(num_repeticiones):\n",
    "        a = np.random.rand(size)\n",
    "        b = np.random.rand(size)\n",
    "        c = np.random.rand(size)\n",
    "        x_esperado = np.random.rand(size)\n",
    "        d = test_ej3.generar_vec_indep(a, b, c, x_esperado)\n",
    "\n",
    "        x_vec = test_ej3.paso_a_lista_y_ejecuto(a, b, c, d)  # Devuelve un numpy array para testear con np.allclose\n",
    "        assert np.allclose(x_vec, x_esperado)"
   ]
  },
  {
   "cell_type": "code",
   "execution_count": 6,
   "metadata": {},
   "outputs": [],
   "source": [
    "# Tamanios y reps para tomar tiempos\n",
    "\n",
    "sizes = [3, 5, 10, 100, 1000]\n",
    "num_repeticiones = 1"
   ]
  },
  {
   "cell_type": "code",
   "execution_count": 7,
   "metadata": {},
   "outputs": [],
   "source": [
    "# Tomo tiempos\n",
    "# EG con pivoteo\n",
    "#ASDASHDASJ\n",
    "\n",
    "tiempos_eg_pivoteo = []\n",
    "tiempo_por_size = []\n",
    "\n",
    "for size in sizes:\n",
    "    for i in range(num_repeticiones):\n",
    "        # Creacion de matriz, vectores, etc\n",
    "        A = test_ej1.generar_mat_rango_completo(size)\n",
    "        np.fill_diagonal(A, 0)\n",
    "        x_ini = test_ej1.np.random.rand(size)\n",
    "        d = test_ej1.np.dot(A, x_ini)\n",
    "        A = A.tolist()\n",
    "        d = d.tolist()\n",
    "        \n",
    "        # Funcion a la que le tomamos el tiempo\n",
    "        tiempo = timeit.timeit(lambda: ej2.eliminacion_con_pivoteo(A, d), number=1)\n",
    "        tiempo_por_size.append(tiempo)\n",
    "        \n",
    "    promedio_tiempo = sum(tiempo_por_size) / len(tiempo_por_size)\n",
    "    tiempos_eg_pivoteo.append(promedio_tiempo)"
   ]
  },
  {
   "cell_type": "code",
   "execution_count": 8,
   "metadata": {},
   "outputs": [
    {
     "name": "stdout",
     "output_type": "stream",
     "text": [
      "[1.556999995955266e-05, 2.0023499928356614e-05, 5.494766658860802e-05, 0.011177842999927634, 5.67244421739988]\n"
     ]
    }
   ],
   "source": [
    "print(tiempos_eg_pivoteo)"
   ]
  },
  {
   "cell_type": "code",
   "execution_count": 9,
   "metadata": {},
   "outputs": [],
   "source": [
    "# Tamanios y reps para tomar tiempos\n",
    "\n",
    "sizes = [3, 5, 10, 100, 1000, 10000]\n",
    "num_repeticiones = 10"
   ]
  },
  {
   "cell_type": "code",
   "execution_count": 10,
   "metadata": {},
   "outputs": [],
   "source": [
    "# Tomo tiempos\n",
    "# Tridiagonal\n",
    "\n",
    "tiempos_tridiag = []\n",
    "tiempo_por_size = []\n",
    "\n",
    "for size in sizes:\n",
    "    for i in range(num_repeticiones):\n",
    "        # Creacion de matriz, vectores, etc\n",
    "        a = np.random.rand(size)\n",
    "        b = np.random.rand(size)\n",
    "        c = np.random.rand(size)\n",
    "        x_esperado = np.random.rand(size)\n",
    "        d = test_ej3.generar_vec_indep(a, b, c, x_esperado)\n",
    "        a = a.tolist()\n",
    "        b = b.tolist()\n",
    "        c = c.tolist()\n",
    "        d = d.tolist()\n",
    "        \n",
    "        # Funcion a la que le tomamos el tiempo\n",
    "        tiempo = timeit.timeit(lambda: ej3.resolver_tridiagonal(a, b, c, d), number=1)\n",
    "        tiempo_por_size.append(tiempo)\n",
    "        \n",
    "    promedio_tiempo = sum(tiempo_por_size) / len(tiempo_por_size)\n",
    "    tiempos_tridiag.append(promedio_tiempo)\n"
   ]
  },
  {
   "cell_type": "code",
   "execution_count": 11,
   "metadata": {},
   "outputs": [
    {
     "name": "stdout",
     "output_type": "stream",
     "text": [
      "[7.919099971331889e-06, 8.510049951837573e-06, 1.1299633282154294e-05, 2.3726824952063908e-05, 0.00014507509996292356, 0.0011760580832894144]\n"
     ]
    }
   ],
   "source": [
    "print(tiempos_tridiag)"
   ]
  },
  {
   "cell_type": "code",
   "execution_count": 12,
   "metadata": {},
   "outputs": [],
   "source": [
    "# Tomo tiempos\n",
    "# Tridiagonal con precomputo\n",
    "\n",
    "tiempos_tridiag_precomputo = []\n",
    "tiempo_por_size = []\n",
    "\n",
    "for size in sizes:\n",
    "    for i in range(num_repeticiones):\n",
    "        # Creacion de matriz, vectores, etc\n",
    "        a = np.random.rand(size)\n",
    "        b = np.random.rand(size)\n",
    "        c = np.random.rand(size)\n",
    "        x_esperado = np.random.rand(size)\n",
    "        d = test_ej3.generar_vec_indep(a, b, c, x_esperado)\n",
    "        a = a.tolist()\n",
    "        b = b.tolist()\n",
    "        c = c.tolist()\n",
    "        d = d.tolist()\n",
    "        ej3.triangular(a, b, c)\n",
    "        \n",
    "        # Funcion a la que le tomamos el tiempo\n",
    "        tiempo = timeit.timeit(lambda: ej3.resolver_ya_triangulada(a, b, c, d), number=1)\n",
    "        tiempo_por_size.append(tiempo)\n",
    "        \n",
    "    promedio_tiempo = sum(tiempo_por_size) / len(tiempo_por_size)\n",
    "    tiempos_tridiag_precomputo.append(promedio_tiempo)"
   ]
  },
  {
   "cell_type": "code",
   "execution_count": 13,
   "metadata": {},
   "outputs": [
    {
     "name": "stdout",
     "output_type": "stream",
     "text": [
      "[8.074399920587893e-06, 7.038849980744999e-06, 7.254466648494903e-06, 1.6383724971547054e-05, 8.53122599710332e-05, 0.0006622353499703119]\n"
     ]
    }
   ],
   "source": [
    "print(tiempos_tridiag_precomputo)"
   ]
  },
  {
   "cell_type": "code",
   "execution_count": null,
   "metadata": {},
   "outputs": [],
   "source": []
  }
 ],
 "metadata": {
  "kernelspec": {
   "display_name": "Python 3 (ipykernel)",
   "language": "python",
   "name": "python3"
  },
  "language_info": {
   "codemirror_mode": {
    "name": "ipython",
    "version": 3
   },
   "file_extension": ".py",
   "mimetype": "text/x-python",
   "name": "python",
   "nbconvert_exporter": "python",
   "pygments_lexer": "ipython3",
   "version": "3.9.12"
  }
 },
 "nbformat": 4,
 "nbformat_minor": 1
}
