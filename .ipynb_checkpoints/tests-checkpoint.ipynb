{
 "cells": [
  {
   "cell_type": "code",
   "execution_count": 1,
   "metadata": {
    "ExecuteTime": {
     "end_time": "2023-04-13T21:27:30.888146Z",
     "start_time": "2023-04-13T21:27:30.820074Z"
    }
   },
   "outputs": [],
   "source": [
    "import ej1\n",
    "import ej2\n",
    "import ej3\n",
    "import test_ej1\n",
    "import test_ej2\n",
    "import numpy as np"
   ]
  },
  {
   "cell_type": "code",
   "execution_count": 2,
   "metadata": {
    "ExecuteTime": {
     "end_time": "2023-04-13T21:27:34.379801Z",
     "start_time": "2023-04-13T21:27:34.377062Z"
    }
   },
   "outputs": [],
   "source": [
    "sizes = [3, 5, 10, 100]\n",
    "num_repeticiones = 100"
   ]
  },
  {
   "cell_type": "code",
   "execution_count": 3,
   "metadata": {
    "ExecuteTime": {
     "end_time": "2023-04-13T21:27:42.919491Z",
     "start_time": "2023-04-13T21:27:35.178793Z"
    }
   },
   "outputs": [],
   "source": [
    "# Pruebo EG con y sin pivoteo\n",
    "# con matrices de rango completo (con sol. unica)\n",
    "# aleatorias con numeros del 0 al 1 (nunca pivotea)\n",
    "\n",
    "for size in sizes:\n",
    "    for i in range(num_repeticiones):\n",
    "        A = test_ej1.generar_mat_rango_completo(size)\n",
    "        x_ini = test_ej1.np.random.rand(size)\n",
    "        d = test_ej1.np.dot(A, x_ini)\n",
    "        x_vec = test_ej1.paso_a_lista_y_ejecuto(A, d)\n",
    "        x_vec2 = test_ej2.paso_a_lista_y_ejecuto(A, d)\n",
    "        assert np.allclose(x_vec, x_ini)\n",
    "        assert np.allclose(x_vec2, x_ini)\n"
   ]
  },
  {
   "cell_type": "code",
   "execution_count": 4,
   "metadata": {
    "ExecuteTime": {
     "end_time": "2023-04-13T21:27:49.593626Z",
     "start_time": "2023-04-13T21:27:44.690137Z"
    }
   },
   "outputs": [],
   "source": [
    "# Pruebo EG con pivoteo\n",
    "# aca se necesita pivotear para hacer la EG.\n",
    "\n",
    "for size in sizes:\n",
    "    for i in range(num_repeticiones):\n",
    "        A = test_ej1.generar_mat_rango_completo(size)\n",
    "        np.fill_diagonal(A, 0)\n",
    "        x_ini = test_ej1.np.random.rand(size)\n",
    "        d = test_ej1.np.dot(A, x_ini)\n",
    "        x_vec2 = test_ej2.paso_a_lista_y_ejecuto(A, d)\n",
    "        assert np.allclose(x_vec2, x_ini)"
   ]
  },
  {
   "cell_type": "code",
   "execution_count": null,
   "metadata": {},
   "outputs": [],
   "source": []
  }
 ],
 "metadata": {
  "kernelspec": {
   "display_name": "Python 3 (ipykernel)",
   "language": "python",
   "name": "python3"
  },
  "language_info": {
   "codemirror_mode": {
    "name": "ipython",
    "version": 3
   },
   "file_extension": ".py",
   "mimetype": "text/x-python",
   "name": "python",
   "nbconvert_exporter": "python",
   "pygments_lexer": "ipython3",
   "version": "3.9.12"
  }
 },
 "nbformat": 4,
 "nbformat_minor": 1
}
