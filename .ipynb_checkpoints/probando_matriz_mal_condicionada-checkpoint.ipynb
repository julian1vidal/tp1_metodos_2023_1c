{
 "cells": [
  {
   "cell_type": "code",
   "execution_count": 1,
   "metadata": {},
   "outputs": [],
   "source": [
    "import ej1\n",
    "import ej2\n",
    "import ej3\n",
    "import test_ej1\n",
    "import test_ej2\n",
    "import test_ej3\n",
    "import numpy as np\n",
    "import timeit"
   ]
  },
  {
   "cell_type": "code",
   "execution_count": 2,
   "metadata": {},
   "outputs": [
    {
     "data": {
      "text/plain": [
       "1323759.0000018796"
      ]
     },
     "execution_count": 2,
     "metadata": {},
     "output_type": "execute_result"
    }
   ],
   "source": [
    "# Matriz mal condicionada para generar warning (de la Teorica)\n",
    "\n",
    "A_mal_cond = np.array([[0.835, 0.667], [0.333, 0.266]])\n",
    "x_ini = np.array([1, -1])\n",
    "d = np.dot(A_mal_cond,x_ini)\n",
    "d\n",
    "\n",
    "np.linalg.cond(A_mal_cond)"
   ]
  },
  {
   "cell_type": "code",
   "execution_count": 3,
   "metadata": {},
   "outputs": [
    {
     "name": "stdout",
     "output_type": "stream",
     "text": [
      "Posible acarreo de error resolviendo el sistema\n"
     ]
    }
   ],
   "source": [
    "# EG sin pivoteo\n",
    "\n",
    "x_vec = test_ej1.paso_a_lista_y_ejecuto(A_mal_cond, d)\n",
    "\n",
    "assert np.allclose(x_vec, x_ini)"
   ]
  },
  {
   "cell_type": "code",
   "execution_count": 4,
   "metadata": {},
   "outputs": [
    {
     "name": "stdout",
     "output_type": "stream",
     "text": [
      "Posible acarreo de error resolviendo el sistema\n"
     ]
    }
   ],
   "source": [
    "# EG con pivoteo\n",
    "x_vec = test_ej2.paso_a_lista_y_ejecuto(A_mal_cond, d)\n",
    "\n",
    "assert np.allclose(x_vec, x_ini)"
   ]
  },
  {
   "cell_type": "code",
   "execution_count": 5,
   "metadata": {},
   "outputs": [
    {
     "data": {
      "text/plain": [
       "array([0.168, 0.066])"
      ]
     },
     "execution_count": 5,
     "metadata": {},
     "output_type": "execute_result"
    }
   ],
   "source": [
    "# Matriz mal condicionada para generar warning, con el vec. indep. ligeramente cambiado\n",
    "\n",
    "A_mal_cond = np.array([[0.835, 0.667], [0.333, 0.266]])\n",
    "x_ini = np.array([-666, 834])\n",
    "d = np.dot(A_mal_cond,x_ini)\n",
    "d"
   ]
  },
  {
   "cell_type": "code",
   "execution_count": 6,
   "metadata": {},
   "outputs": [
    {
     "name": "stdout",
     "output_type": "stream",
     "text": [
      "Posible acarreo de error resolviendo el sistema\n"
     ]
    }
   ],
   "source": [
    "# EG sin pivoteo\n",
    "\n",
    "x_vec = test_ej1.paso_a_lista_y_ejecuto(A_mal_cond, d)\n",
    "\n",
    "assert np.allclose(x_vec, x_ini)"
   ]
  },
  {
   "cell_type": "code",
   "execution_count": 7,
   "metadata": {},
   "outputs": [
    {
     "name": "stdout",
     "output_type": "stream",
     "text": [
      "Posible acarreo de error resolviendo el sistema\n"
     ]
    }
   ],
   "source": [
    "# EG con pivoteo\n",
    "x_vec = test_ej2.paso_a_lista_y_ejecuto(A_mal_cond, d)\n",
    "\n",
    "assert np.allclose(x_vec, x_ini)"
   ]
  },
  {
   "cell_type": "code",
   "execution_count": 8,
   "metadata": {},
   "outputs": [
    {
     "name": "stdout",
     "output_type": "stream",
     "text": [
      "Posible acarreo de error triangulando la matriz\n",
      "Posible acarreo de error resolviendo el sistema\n"
     ]
    }
   ],
   "source": [
    "# Caso para tridiag\n",
    "\n",
    "tri_mal_cond = np.array([[1e-4, 40, 0],\n",
    "              [33, 0.003, 5],\n",
    "              [0, 12, 1e-5]])\n",
    "np.linalg.cond(tri_mal_cond)\n",
    "\n",
    "\n",
    "x_ini = np.array([1, 1, 1])\n",
    "d = np.dot(tri_mal_cond, x_ini) # d = [40.0001 , 38.003  , 12.00001]\n",
    "\n",
    "\n",
    "c = np.array([40, 5, 0])\n",
    "b = np.array([1e-4, 0.003, 1e-5])\n",
    "a = np.array([0, 33, 12])\n",
    "\n",
    "x_vec = test_ej3.paso_a_lista_y_ejecuto(a, b, c, d)\n",
    "assert np.allclose(x_vec, x_ini)"
   ]
  },
  {
   "cell_type": "code",
   "execution_count": null,
   "metadata": {},
   "outputs": [],
   "source": []
  }
 ],
 "metadata": {
  "kernelspec": {
   "display_name": "Python 3 (ipykernel)",
   "language": "python",
   "name": "python3"
  },
  "language_info": {
   "codemirror_mode": {
    "name": "ipython",
    "version": 3
   },
   "file_extension": ".py",
   "mimetype": "text/x-python",
   "name": "python",
   "nbconvert_exporter": "python",
   "pygments_lexer": "ipython3",
   "version": "3.10.6"
  }
 },
 "nbformat": 4,
 "nbformat_minor": 1
}
