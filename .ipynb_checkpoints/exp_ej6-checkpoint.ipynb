{
 "cells": [
  {
   "cell_type": "code",
   "execution_count": 6,
   "metadata": {},
   "outputs": [],
   "source": [
    "import ej3\n",
    "import ej6\n",
    "import matplotlib.pyplot as plt\n",
    "import numpy as np\n",
    "import math\n",
    "EPS = 1.0e-4"
   ]
  },
  {
   "cell_type": "code",
   "execution_count": 8,
   "metadata": {},
   "outputs": [],
   "source": [
    "def generar_sistema_de_difusion(alfa, u, iteraciones):\n",
    "    res = []\n",
    "    c_vec = armar_diagonales(alfa, len(u))\n",
    "    c_vec[-1] = 0\n",
    "    a_vec = armar_diagonales(alfa, len(u))\n",
    "    a_vec[0] = 0\n",
    "    b_vec = armar_central(alfa, len(u))\n",
    "    triangular(a_vec, b_vec, c_vec)\n",
    "    \n",
    "    for i in range(iteraciones):\n",
    "        u = resolver_ya_triangulada(a_vec, b_vec, c_vec, u)\n",
    "        res.append(u)\n",
    "    return res\n",
    "\n",
    "def armar_diagonales(alfa, n):\n",
    "    unos = np.ones(n)\n",
    "    res = unos * (-alfa)\n",
    "    return res\n",
    "\n",
    "def armar_central(alfa, n):\n",
    "    diag = np.ones(n) * (-2)\n",
    "    res = (diag * (-alfa)) + np.ones(n)\n",
    "    return res\n",
    "\n",
    "\n",
    "def armar_u_consigna(n, r):\n",
    "    res = []\n",
    "    cota_menor = math.floor(n/2) - r\n",
    "    cota_mayor = math.floor(n/2) + r\n",
    "    for i in range(n):\n",
    "        if (cota_menor < i & i < cota_mayor):\n",
    "            res.append(1)\n",
    "        else:\n",
    "            res.append(0)\n",
    "    return res\n"
   ]
  },
  {
   "cell_type": "code",
   "execution_count": 9,
   "metadata": {},
   "outputs": [],
   "source": [
    "consigna_b = armar_u_consigna(n=101, r=10)"
   ]
  },
  {
   "cell_type": "code",
   "execution_count": 10,
   "metadata": {},
   "outputs": [
    {
     "ename": "NameError",
     "evalue": "name 'triangular' is not defined",
     "output_type": "error",
     "traceback": [
      "\u001b[0;31m---------------------------------------------------------------------------\u001b[0m",
      "\u001b[0;31mNameError\u001b[0m                                 Traceback (most recent call last)",
      "Cell \u001b[0;32mIn[10], line 1\u001b[0m\n\u001b[0;32m----> 1\u001b[0m us \u001b[38;5;241m=\u001b[39m \u001b[43mgenerar_sistema_de_difusion\u001b[49m\u001b[43m(\u001b[49m\u001b[43malfa\u001b[49m\u001b[38;5;241;43m=\u001b[39;49m\u001b[38;5;241;43m1\u001b[39;49m\u001b[43m,\u001b[49m\u001b[43m \u001b[49m\u001b[43mu\u001b[49m\u001b[38;5;241;43m=\u001b[39;49m\u001b[43mconsigna_b\u001b[49m\u001b[38;5;241;43m.\u001b[39;49m\u001b[43mcopy\u001b[49m\u001b[43m(\u001b[49m\u001b[43m)\u001b[49m\u001b[43m,\u001b[49m\u001b[43m \u001b[49m\u001b[43miteraciones\u001b[49m\u001b[38;5;241;43m=\u001b[39;49m\u001b[38;5;241;43m1000\u001b[39;49m\u001b[43m)\u001b[49m\n\u001b[1;32m      3\u001b[0m plt\u001b[38;5;241m.\u001b[39mpcolor(us)\n\u001b[1;32m      4\u001b[0m plt\u001b[38;5;241m.\u001b[39mcolorbar()\n",
      "Cell \u001b[0;32mIn[8], line 8\u001b[0m, in \u001b[0;36mgenerar_sistema_de_difusion\u001b[0;34m(alfa, u, iteraciones)\u001b[0m\n\u001b[1;32m      6\u001b[0m a_vec[\u001b[38;5;241m0\u001b[39m] \u001b[38;5;241m=\u001b[39m \u001b[38;5;241m0\u001b[39m\n\u001b[1;32m      7\u001b[0m b_vec \u001b[38;5;241m=\u001b[39m armar_central(alfa, \u001b[38;5;28mlen\u001b[39m(u))\n\u001b[0;32m----> 8\u001b[0m \u001b[43mtriangular\u001b[49m(a_vec, b_vec, c_vec)\n\u001b[1;32m     10\u001b[0m \u001b[38;5;28;01mfor\u001b[39;00m i \u001b[38;5;129;01min\u001b[39;00m \u001b[38;5;28mrange\u001b[39m(iteraciones):\n\u001b[1;32m     11\u001b[0m     u \u001b[38;5;241m=\u001b[39m resolver_ya_triangulada(a_vec, b_vec, c_vec, u)\n",
      "\u001b[0;31mNameError\u001b[0m: name 'triangular' is not defined"
     ]
    }
   ],
   "source": [
    "us = generar_sistema_de_difusion(alfa=1, u=consigna_b.copy(), iteraciones=1000)\n",
    "\n",
    "plt.pcolor(us)\n",
    "plt.colorbar()"
   ]
  },
  {
   "cell_type": "code",
   "execution_count": null,
   "metadata": {},
   "outputs": [],
   "source": [
    "arrai = np.asarray(us)\n",
    "traspuesto = arrai.T\n",
    "\n",
    "plt.pcolor(traspuesto)\n",
    "plt.colorbar()\n",
    "plt.xlabel(\"k\")\n",
    "plt.ylabel(\"x\")"
   ]
  }
 ],
 "metadata": {
  "kernelspec": {
   "display_name": "Python 3 (ipykernel)",
   "language": "python",
   "name": "python3"
  },
  "language_info": {
   "codemirror_mode": {
    "name": "ipython",
    "version": 3
   },
   "file_extension": ".py",
   "mimetype": "text/x-python",
   "name": "python",
   "nbconvert_exporter": "python",
   "pygments_lexer": "ipython3",
   "version": "3.10.6"
  }
 },
 "nbformat": 4,
 "nbformat_minor": 1
}
