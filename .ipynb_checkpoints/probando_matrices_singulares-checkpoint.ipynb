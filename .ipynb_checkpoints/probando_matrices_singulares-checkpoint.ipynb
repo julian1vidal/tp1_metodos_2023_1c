{
 "cells": [
  {
   "cell_type": "code",
   "execution_count": 2,
   "metadata": {},
   "outputs": [],
   "source": [
    "import ej1\n",
    "import test_ej1\n",
    "import ej2\n",
    "import test_ej2\n",
    "import ej3\n",
    "import test_ej3\n",
    "import numpy as np"
   ]
  },
  {
   "cell_type": "code",
   "execution_count": 3,
   "metadata": {},
   "outputs": [
    {
     "name": "stdout",
     "output_type": "stream",
     "text": [
      "Error: division por cero\n"
     ]
    },
    {
     "data": {
      "text/plain": [
       "array([0., 0., 0.])"
      ]
     },
     "execution_count": 3,
     "metadata": {},
     "output_type": "execute_result"
    }
   ],
   "source": [
    "# Tridiagonal\n",
    "# Caso matriz singular 3\n",
    "mat_sing = np.array([[1, 2, 0], [1, 2, 0], [0, 1, 2]])\n",
    "x_ini = np.array([1, 1, 1])\n",
    "d = np.dot(mat_sing, x_ini)\n",
    "\n",
    "\"\"\"\n",
    "120    120\n",
    "120 -> 000\n",
    "012    012\n",
    "\"\"\"\n",
    "\n",
    "\n",
    "c = np.array([2, 0, 0])\n",
    "b = np.array([1, 2, 2])\n",
    "a = np.array([0, 1, 1])\n",
    "\n",
    "test_ej3.paso_a_lista_y_ejecuto(a, b, c, d)"
   ]
  },
  {
   "cell_type": "code",
   "execution_count": 4,
   "metadata": {},
   "outputs": [
    {
     "name": "stdout",
     "output_type": "stream",
     "text": [
      "Matriz singular sin solucion unica\n"
     ]
    },
    {
     "data": {
      "text/plain": [
       "array([0., 0., 0.])"
      ]
     },
     "execution_count": 4,
     "metadata": {},
     "output_type": "execute_result"
    }
   ],
   "source": [
    "# Tridiagonal\n",
    "# Caso matriz singular 4\n",
    "mat_sing = np.array([[1, 2, 0], [2, 5, 1], [0, 1, 1]])\n",
    "\n",
    "x_ini = np.array([1, 1, 1])\n",
    "d = np.dot(mat_sing, x_ini)\n",
    "\n",
    "\"\"\"\n",
    "120    120    120\n",
    "251 -> 011 -> 011\n",
    "011    011    000\n",
    "\"\"\"\n",
    "\n",
    "\n",
    "c = np.array([2, 1, 0])\n",
    "b = np.array([1, 5, 1])\n",
    "a = np.array([0, 2, 1])\n",
    "\n",
    "test_ej3.paso_a_lista_y_ejecuto(a, b, c, d)\n",
    "# No esta pensado usar la tridiagonal con precomputo con una matriz singular"
   ]
  },
  {
   "cell_type": "markdown",
   "metadata": {},
   "source": [
    "# Puntos de enunciado"
   ]
  },
  {
   "cell_type": "markdown",
   "metadata": {},
   "source": [
    "### 1a) \"... Debe devolver una excepción si no puede encontrar la solución.\""
   ]
  },
  {
   "cell_type": "code",
   "execution_count": 5,
   "metadata": {},
   "outputs": [
    {
     "name": "stdout",
     "output_type": "stream",
     "text": [
      "No se puede realizar la EG sin pivoteo (division por 0)\n"
     ]
    },
    {
     "data": {
      "text/plain": [
       "array([0., 0., 0.])"
      ]
     },
     "execution_count": 5,
     "metadata": {},
     "output_type": "execute_result"
    }
   ],
   "source": [
    "# EG sin pivoteo\n",
    "# Caso matriz singular 1\n",
    "mat_sing = np.array([[1, 2, 1], [2, 4, 2], [0, 0, 1]])\n",
    "x_ini = np.array([1, 1, 1])\n",
    "d = np.dot(mat_sing, x_ini)\n",
    "\n",
    "test_ej1.paso_a_lista_y_ejecuto(mat_sing, d)"
   ]
  },
  {
   "cell_type": "code",
   "execution_count": 6,
   "metadata": {},
   "outputs": [
    {
     "name": "stdout",
     "output_type": "stream",
     "text": [
      "El sistema no tiene solucion unica (matriz singular)\n"
     ]
    },
    {
     "data": {
      "text/plain": [
       "array([0., 0., 0.])"
      ]
     },
     "execution_count": 6,
     "metadata": {},
     "output_type": "execute_result"
    }
   ],
   "source": [
    "# EG sin pivoteo\n",
    "# Caso matriz singular 2 (ultima fila 0s)\n",
    "mat_sing = np.array([[1, 2, 1], [1, 3, 2], [0, 1, 1]])\n",
    "x_ini = np.array([1, 1, 1])\n",
    "d = np.dot(mat_sing, x_ini)\n",
    "\n",
    "test_ej1.paso_a_lista_y_ejecuto(mat_sing, d)"
   ]
  },
  {
   "cell_type": "markdown",
   "metadata": {},
   "source": [
    "### 1b) Encontrar un ejemplo donde el algoritmo no se puede aplicar pero si hubiese pivoteo si."
   ]
  },
  {
   "cell_type": "code",
   "execution_count": 7,
   "metadata": {},
   "outputs": [
    {
     "name": "stdout",
     "output_type": "stream",
     "text": [
      "EG sin pivoteo:\n",
      "No se puede realizar la EG sin pivoteo (division por 0)\n",
      "[0. 0. 0.]\n",
      "==========\n",
      "EG con pivoteo: \n",
      "[1. 2. 3.]\n",
      "==========\n",
      "Solucion:\n",
      "[1 2 3]\n"
     ]
    }
   ],
   "source": [
    "# EG con y sin pivoteo\n",
    "# Caso matriz no singular (matriz identidad permutada)\n",
    "mat_id_perm = np.array([[1, 0, 0], [0, 0, 1], [0, 1, 0]])\n",
    "x_ini = np.array([1, 2, 3])\n",
    "d = np.dot(mat_id_perm, x_ini)\n",
    "\n",
    "print(\"EG sin pivoteo:\")\n",
    "print(test_ej1.paso_a_lista_y_ejecuto(mat_id_perm, d))\n",
    "print(\"==========\")\n",
    "print(\"EG con pivoteo: \")\n",
    "print(test_ej2.paso_a_lista_y_ejecuto(mat_id_perm, d))\n",
    "print(\"==========\")\n",
    "print(\"Solucion:\")\n",
    "print(x_ini)"
   ]
  },
  {
   "cell_type": "markdown",
   "metadata": {},
   "source": [
    "### 2) b) Encontrar un ejemplo donde el algoritmo no se puede aplicar por que el sistema no tiene soluciones o tiene infinitas."
   ]
  },
  {
   "cell_type": "code",
   "execution_count": 8,
   "metadata": {},
   "outputs": [
    {
     "name": "stdout",
     "output_type": "stream",
     "text": [
      "El sistema tiene infinitas soluciones\n"
     ]
    },
    {
     "data": {
      "text/plain": [
       "array([0., 0., 0.])"
      ]
     },
     "execution_count": 8,
     "metadata": {},
     "output_type": "execute_result"
    }
   ],
   "source": [
    "# EG con pivoteo\n",
    "# Caso matriz singular 1\n",
    "mat_sing = np.array([[1, 2, 1], [2, 4, 2], [0, 0, 1]])\n",
    "x_ini = np.array([1, 1, 1])\n",
    "d = np.dot(mat_sing, x_ini)\n",
    "\n",
    "test_ej2.paso_a_lista_y_ejecuto(mat_sing, d)"
   ]
  },
  {
   "cell_type": "code",
   "execution_count": 9,
   "metadata": {},
   "outputs": [
    {
     "name": "stdout",
     "output_type": "stream",
     "text": [
      "El sistema tiene infinitas soluciones\n"
     ]
    },
    {
     "data": {
      "text/plain": [
       "array([0., 0., 0.])"
      ]
     },
     "execution_count": 9,
     "metadata": {},
     "output_type": "execute_result"
    }
   ],
   "source": [
    "# EG con pivoteo\n",
    "# Caso matriz singular 2 (ultima fila = 0)\n",
    "# En este caso d = [4, 6, 2]\n",
    "\n",
    "mat_sing = np.array([[1, 2, 1], [1, 3, 2], [0, 1, 1]])\n",
    "x_ini = np.array([1, 1, 1])\n",
    "d = np.dot(mat_sing, x_ini)\n",
    "\n",
    "test_ej2.paso_a_lista_y_ejecuto(mat_sing, d)"
   ]
  },
  {
   "cell_type": "code",
   "execution_count": 10,
   "metadata": {},
   "outputs": [
    {
     "name": "stdout",
     "output_type": "stream",
     "text": [
      "El sistema no tiene solucion\n"
     ]
    },
    {
     "data": {
      "text/plain": [
       "array([0., 0., 0.])"
      ]
     },
     "execution_count": 10,
     "metadata": {},
     "output_type": "execute_result"
    }
   ],
   "source": [
    "# EG con pivoteo\n",
    "# Caso matriz singular 2, pero con vec. indep. que no haya sol.\n",
    "# En este caso d = [4, 6, 1]\n",
    "\n",
    "mat_sing = np.array([[1, 2, 1], [1, 3, 2], [0, 1, 1]])\n",
    "d = np.array([4, 6, 1])\n",
    "\n",
    "test_ej2.paso_a_lista_y_ejecuto(mat_sing, d)"
   ]
  },
  {
   "cell_type": "markdown",
   "metadata": {},
   "source": [
    "### 2) d) Encontrar un ejemplo donde el algoritmo entrega un resultado aproximado por error numérico."
   ]
  },
  {
   "cell_type": "code",
   "execution_count": 56,
   "metadata": {},
   "outputs": [
    {
     "name": "stdout",
     "output_type": "stream",
     "text": [
      "Nro. de condicion: 33808549352.583824\n",
      "Posible acarreo de error triangulando la matriz\n",
      "Posible acarreo de error resolviendo el sistema\n"
     ]
    },
    {
     "data": {
      "text/plain": [
       "array([0.99199643, 0.99536048, 1.01553073])"
      ]
     },
     "execution_count": 56,
     "metadata": {},
     "output_type": "execute_result"
    }
   ],
   "source": [
    "# PARA GENERAR MATRICES MAL CONDICIONADAS\n",
    "\n",
    "#size = 3\n",
    "\n",
    "#A = np.random.rand(size,size)\n",
    "#A[1,:] = A[1,:] * 0.0000000001\n",
    "#print(\"Nro. de condicion:\", np.linalg.cond(A))\n",
    "\n",
    "#x_ini = np.ones(size)\n",
    "#d = np.dot(A, x_ini)\n",
    "\n",
    "#test_ej2.paso_a_lista_y_ejecuto(A, d)"
   ]
  },
  {
   "cell_type": "code",
   "execution_count": 65,
   "metadata": {},
   "outputs": [
    {
     "name": "stdout",
     "output_type": "stream",
     "text": [
      "Nro. de condicion: 33808549369.97327\n",
      "===========================================\n",
      "Posible acarreo de error triangulando la matriz\n",
      "Posible acarreo de error resolviendo el sistema\n",
      "nuestra sol: [0.99199643 0.99536048 1.01553073]\n",
      "===========================================\n",
      "solucion real: [1. 1. 1.]\n"
     ]
    }
   ],
   "source": [
    "A = np.array([[2.79245262e-01, 8.44001665e-01, 3.96035401e-01],\n",
    "       [6.96125422e-13, 8.01423469e-12, 4.72165492e-11],\n",
    "       [7.00322525e-01, 4.19799352e-01, 4.86309748e-01]])\n",
    "\n",
    "print(\"Nro. de condicion:\", np.linalg.cond(A))\n",
    "x_ini = np.ones(size)\n",
    "d = np.dot(A, x_ini)\n",
    "print(\"===========================================\")\n",
    "print(\"nuestra sol:\", test_ej2.paso_a_lista_y_ejecuto(A, d))\n",
    "print(\"===========================================\")\n",
    "print(\"solucion real:\", x_ini)"
   ]
  },
  {
   "cell_type": "code",
   "execution_count": null,
   "metadata": {},
   "outputs": [],
   "source": []
  }
 ],
 "metadata": {
  "kernelspec": {
   "display_name": "Python 3 (ipykernel)",
   "language": "python",
   "name": "python3"
  },
  "language_info": {
   "codemirror_mode": {
    "name": "ipython",
    "version": 3
   },
   "file_extension": ".py",
   "mimetype": "text/x-python",
   "name": "python",
   "nbconvert_exporter": "python",
   "pygments_lexer": "ipython3",
   "version": "3.10.6"
  }
 },
 "nbformat": 4,
 "nbformat_minor": 1
}
